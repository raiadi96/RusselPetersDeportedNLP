{
  "nbformat": 4,
  "nbformat_minor": 0,
  "metadata": {
    "colab": {
      "name": "DeportedPetersNLP.ipynb",
      "provenance": [],
      "collapsed_sections": [],
      "mount_file_id": "1Tnvoo4WATtu3S9gLEM8S0W8chj4zVRs1",
      "authorship_tag": "ABX9TyP56qnsGSl3cHI8FtlpHuN9",
      "include_colab_link": true
    },
    "kernelspec": {
      "name": "python3",
      "display_name": "Python 3"
    }
  },
  "cells": [
    {
      "cell_type": "markdown",
      "metadata": {
        "id": "view-in-github",
        "colab_type": "text"
      },
      "source": [
        "<a href=\"https://colab.research.google.com/github/raiadi96/RusselPetersDeportedNLP/blob/master/DeportedPetersNLP.ipynb\" target=\"_parent\"><img src=\"https://colab.research.google.com/assets/colab-badge.svg\" alt=\"Open In Colab\"/></a>"
      ]
    },
    {
      "cell_type": "markdown",
      "metadata": {
        "id": "LZ7BtM7DqU74",
        "colab_type": "text"
      },
      "source": [
        "Russel Peters' Standup show's transcript analysis\n"
      ]
    },
    {
      "cell_type": "markdown",
      "metadata": {
        "id": "Ki9jrEPpqRPw",
        "colab_type": "text"
      },
      "source": [
        "Here we will take transcripts from Russel Peters' show \"Deported\""
      ]
    },
    {
      "cell_type": "code",
      "metadata": {
        "id": "FDcVjlw7WZKk",
        "colab_type": "code",
        "colab": {}
      },
      "source": [
        "#Loading all the data\n",
        "data = list()\n",
        "with open('/content/deported.txt','r',encoding='utf-8') as file:\n",
        "  data  = list(file)\n",
        "\n",
        "data = (' ').join(data)\n",
        "\n"
      ],
      "execution_count": 0,
      "outputs": []
    },
    {
      "cell_type": "code",
      "metadata": {
        "id": "uViN5gmwWwiy",
        "colab_type": "code",
        "colab": {
          "base_uri": "https://localhost:8080/",
          "height": 50
        },
        "outputId": "2cac3cdd-2d65-409f-b0ea-fcb268b79077"
      },
      "source": [
        "#convert list to dict \n",
        "data_dict = {'Deported':[data]}\n",
        "\n",
        "#convert dict to pandas dataframe\n",
        "import pandas as pd\n",
        "\n",
        "#pd.set_option('max_colwidth',100)\n",
        "data_df = pd.DataFrame(data_dict, index=[list(data_dict.keys())])\n",
        "data_df.columns = ['Transcript']\n",
        "data_df = data_df.sort_index()\n",
        "print(data_df)\n"
      ],
      "execution_count": 98,
      "outputs": [
        {
          "output_type": "stream",
          "text": [
            "                                                                                                                                                     Transcript\n",
            "Deported  Hey! Hello Bombay buggers. What’s happening? I know it’s going to sound strange, but it’s good to be home. I mean, although I was never born and r...\n"
          ],
          "name": "stdout"
        }
      ]
    },
    {
      "cell_type": "code",
      "metadata": {
        "id": "vFyUrU5JXYTX",
        "colab_type": "code",
        "colab": {}
      },
      "source": [
        "#basic data cleaning\n",
        "#converting everything to lower case\n",
        "#remove text present in square brackets\n",
        "#remove punctuation marks\n",
        "\n",
        "import re\n",
        "import string\n",
        "\n",
        "def basic_text_clean(text):\n",
        "  text = text.lower()\n",
        "  text = re.sub(r\"\\[.*?\\]\", '', text)\n",
        "  text = re.sub(re.escape(string.punctuation),'',text)\n",
        "  text = re.sub('\\w*\\d\\w*', '', text)\n",
        "  return text\n",
        "\n",
        "\n",
        "round1 = lambda x: basic_text_clean(x)\n",
        "\n"
      ],
      "execution_count": 0,
      "outputs": []
    },
    {
      "cell_type": "code",
      "metadata": {
        "id": "iiVirfvFabrx",
        "colab_type": "code",
        "colab": {
          "base_uri": "https://localhost:8080/",
          "height": 77
        },
        "outputId": "64d8911a-be85-480e-e93e-f0f2ba1ea97a"
      },
      "source": [
        "data_clean = pd.DataFrame(data_df.Transcript.apply(round1))\n",
        "data_clean"
      ],
      "execution_count": 100,
      "outputs": [
        {
          "output_type": "execute_result",
          "data": {
            "text/html": [
              "<div>\n",
              "<style scoped>\n",
              "    .dataframe tbody tr th:only-of-type {\n",
              "        vertical-align: middle;\n",
              "    }\n",
              "\n",
              "    .dataframe tbody tr th {\n",
              "        vertical-align: top;\n",
              "    }\n",
              "\n",
              "    .dataframe thead th {\n",
              "        text-align: right;\n",
              "    }\n",
              "</style>\n",
              "<table border=\"1\" class=\"dataframe\">\n",
              "  <thead>\n",
              "    <tr style=\"text-align: right;\">\n",
              "      <th></th>\n",
              "      <th>Transcript</th>\n",
              "    </tr>\n",
              "  </thead>\n",
              "  <tbody>\n",
              "    <tr>\n",
              "      <th>Deported</th>\n",
              "      <td>hey! hello bombay buggers. what’s happening? i know it’s going to sound strange, but it’s good to be home. i mean, although i was never born and r...</td>\n",
              "    </tr>\n",
              "  </tbody>\n",
              "</table>\n",
              "</div>"
            ],
            "text/plain": [
              "                                                                                                                                                     Transcript\n",
              "Deported  hey! hello bombay buggers. what’s happening? i know it’s going to sound strange, but it’s good to be home. i mean, although i was never born and r..."
            ]
          },
          "metadata": {
            "tags": []
          },
          "execution_count": 100
        }
      ]
    },
    {
      "cell_type": "code",
      "metadata": {
        "id": "SoXQ3qENagJI",
        "colab_type": "code",
        "colab": {}
      },
      "source": [
        "#round 2 of cleaning\n",
        "#remove punctuation which are suffixed to words, ex: hello?\n",
        "#remove new line charachters\n",
        "#remove some additional punctuations\n",
        "\n",
        "def adv_text_clean(text):\n",
        "  text = re.sub(r'[.?!,:]','',text, 0, re.MULTILINE | re.UNICODE)\n",
        "  text = re.sub('\\n','',text)\n",
        "  text = re.sub('[-*]',' ', text)\n",
        "  text = re.sub('[‘’“”…]', '', text)\n",
        "  text = re.sub(r'[\\u2013\\u2014]', ' ', text)\n",
        "  return text\n",
        "\n",
        "round2 = lambda x: adv_text_clean(x)"
      ],
      "execution_count": 0,
      "outputs": []
    },
    {
      "cell_type": "code",
      "metadata": {
        "id": "j8YiTY6zds8X",
        "colab_type": "code",
        "colab": {
          "base_uri": "https://localhost:8080/",
          "height": 77
        },
        "outputId": "b262c3db-f883-4439-aa4f-8b0ea4934c5f"
      },
      "source": [
        "pd.set_option('max_colwidth',200)\n",
        "data_clean2 = pd.DataFrame(data_clean.Transcript.apply(round2))\n",
        "data_clean2"
      ],
      "execution_count": 129,
      "outputs": [
        {
          "output_type": "execute_result",
          "data": {
            "text/html": [
              "<div>\n",
              "<style scoped>\n",
              "    .dataframe tbody tr th:only-of-type {\n",
              "        vertical-align: middle;\n",
              "    }\n",
              "\n",
              "    .dataframe tbody tr th {\n",
              "        vertical-align: top;\n",
              "    }\n",
              "\n",
              "    .dataframe thead th {\n",
              "        text-align: right;\n",
              "    }\n",
              "</style>\n",
              "<table border=\"1\" class=\"dataframe\">\n",
              "  <thead>\n",
              "    <tr style=\"text-align: right;\">\n",
              "      <th></th>\n",
              "      <th>Transcript</th>\n",
              "    </tr>\n",
              "  </thead>\n",
              "  <tbody>\n",
              "    <tr>\n",
              "      <th>Deported</th>\n",
              "      <td>hey hello bombay buggers whats happening i know its going to sound strange but its good to be home i mean although i was never born and raised here but i still feel at home i feel like i dont have...</td>\n",
              "    </tr>\n",
              "  </tbody>\n",
              "</table>\n",
              "</div>"
            ],
            "text/plain": [
              "                                                                                                                                                                                                       Transcript\n",
              "Deported  hey hello bombay buggers whats happening i know its going to sound strange but its good to be home i mean although i was never born and raised here but i still feel at home i feel like i dont have..."
            ]
          },
          "metadata": {
            "tags": []
          },
          "execution_count": 129
        }
      ]
    },
    {
      "cell_type": "code",
      "metadata": {
        "id": "1khZ4reXd0Lw",
        "colab_type": "code",
        "colab": {}
      },
      "source": [
        ""
      ],
      "execution_count": 0,
      "outputs": []
    },
    {
      "cell_type": "code",
      "metadata": {
        "id": "HRzAs4S7inw1",
        "colab_type": "code",
        "colab": {}
      },
      "source": [
        ""
      ],
      "execution_count": 0,
      "outputs": []
    }
  ]
}